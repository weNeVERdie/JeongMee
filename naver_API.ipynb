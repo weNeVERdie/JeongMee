{
  "nbformat": 4,
  "nbformat_minor": 0,
  "metadata": {
    "colab": {
      "name": "naver_API.ipynb",
      "provenance": [],
      "collapsed_sections": [],
      "toc_visible": true,
      "mount_file_id": "1DPsuDQz7gqxxSQLX7sHOvqrE76saKwWS",
      "authorship_tag": "ABX9TyMWouldJfxBttVwnbu+ckHj",
      "include_colab_link": true
    },
    "kernelspec": {
      "name": "python3",
      "display_name": "Python 3"
    },
    "accelerator": "GPU"
  },
  "cells": [
    {
      "cell_type": "markdown",
      "metadata": {
        "id": "view-in-github",
        "colab_type": "text"
      },
      "source": [
        "<a href=\"https://colab.research.google.com/github/weNeVERdie/JeongMee/blob/master/naver_API.ipynb\" target=\"_parent\"><img src=\"https://colab.research.google.com/assets/colab-badge.svg\" alt=\"Open In Colab\"/></a>"
      ]
    },
    {
      "cell_type": "code",
      "metadata": {
        "id": "yF8DibdAZFFp",
        "colab_type": "code",
        "colab": {}
      },
      "source": [
        "import os\n",
        "import sys\n",
        "import requests"
      ],
      "execution_count": 0,
      "outputs": []
    },
    {
      "cell_type": "code",
      "metadata": {
        "id": "ECxGOZvylYnM",
        "colab_type": "code",
        "outputId": "94e61e99-adea-456f-d137-17a4e9269ff1",
        "colab": {
          "base_uri": "https://localhost:8080/",
          "height": 54
        }
      },
      "source": [
        "#FACE_recognization\n",
        "client_id = \"N37h3rBsypwEKXONJj_r\"\n",
        "client_secret = \"G9E2B39pW4\"\n",
        "url = \"https://openapi.naver.com/v1/vision/face\" #얼굴감지\n",
        "#url = \"https://openapi.naver.com/v1/vision/celebrity\"\n",
        "files = {'image': open('/content/drive/My Drive/Colab Notebooks/test/김정미.jpg', 'rb')}\n",
        "headers = {'X-Naver-Client-Id': client_id, 'X-Naver-Client-Secret': client_secret }\n",
        "response = requests.post(url,  files=files, headers=headers)\n",
        "rescode = response.status_code\n",
        "\n",
        "if(rescode==200):\n",
        "    print (response.text)\n",
        "else:\n",
        "    print(\"Error Code:\" + str(rescode))"
      ],
      "execution_count": 0,
      "outputs": [
        {
          "output_type": "stream",
          "text": [
            "{\"info\":{\"size\":{\"width\":150,\"height\":170},\"faceCount\":1},\"faces\":[{\"roi\":{\"x\":45,\"y\":42,\"width\":58,\"height\":58},\"landmark\":{\"leftEye\":{\"x\":60,\"y\":57},\"rightEye\":{\"x\":87,\"y\":57},\"nose\":{\"x\":73,\"y\":73},\"leftMouth\":{\"x\":63,\"y\":85},\"rightMouth\":{\"x\":85,\"y\":85}},\"gender\":{\"value\":\"female\",\"confidence\":0.999456},\"age\":{\"value\":\"19~23\",\"confidence\":0.942361},\"emotion\":{\"value\":\"smile\",\"confidence\":0.873345},\"pose\":{\"value\":\"frontal_face\",\"confidence\":0.999926}}]}\n"
          ],
          "name": "stdout"
        }
      ]
    },
    {
      "cell_type": "code",
      "metadata": {
        "id": "l1ccX3b7lkaI",
        "colab_type": "code",
        "colab": {
          "base_uri": "https://localhost:8080/",
          "height": 799
        },
        "outputId": "da5a9756-17d6-4356-a2d1-bd345efc178e"
      },
      "source": [
        "#POSE estimation\n",
        "client_id = \"l5txm7bgmd\"\n",
        "client_secret = \"IJICvD902TboRCYQQ9stdiUCsQm8jAiC6tmMwQUp\"\n",
        "url = \"https://naveropenapi.apigw.ntruss.com/vision-pose/v1/estimate\" #사람 인식\n",
        "files = {'image': open('/content/drive/My Drive/Colab Notebooks/test/김정미.jpg', 'rb')}\n",
        "headers = {'X-NCP-APIGW-API-KEY-ID': client_id, 'X-NCP-APIGW-API-KEY': client_secret }\n",
        "response = requests.post(url,  files=files, headers=headers)\n",
        "rescode = response.status_code\n",
        "if(rescode==200):\n",
        "    print (response.text)\n",
        "else:\n",
        "    print(\"Error Code:\" + str(rescode))"
      ],
      "execution_count": 7,
      "outputs": [
        {
          "output_type": "stream",
          "text": [
            "{\n",
            "    \"predictions\": [\n",
            "        {\n",
            "            \"0\": {\n",
            "                \"score\": 0.7638169527053833,\n",
            "                \"x\": 0.5066666666666667,\n",
            "                \"y\": 0.4235294117647059\n",
            "            },\n",
            "            \"1\": {\n",
            "                \"score\": 0.5392459034919739,\n",
            "                \"x\": 0.49333333333333335,\n",
            "                \"y\": 0.8470588235294118\n",
            "            },\n",
            "            \"2\": {\n",
            "                \"score\": 0.40846899151802063,\n",
            "                \"x\": 0.06666666666666667,\n",
            "                \"y\": 0.8705882352941177\n",
            "            },\n",
            "            \"5\": {\n",
            "                \"score\": 0.3148694932460785,\n",
            "                \"x\": 0.9333333333333333,\n",
            "                \"y\": 0.8470588235294118\n",
            "            },\n",
            "            \"14\": {\n",
            "                \"score\": 0.9075730443000793,\n",
            "                \"x\": 0.41333333333333333,\n",
            "                \"y\": 0.3411764705882353\n",
            "            },\n",
            "            \"15\": {\n",
            "                \"score\": 0.7744347453117371,\n",
            "                \"x\": 0.6,\n",
            "                \"y\": 0.3411764705882353\n",
            "            },\n",
            "            \"16\": {\n",
            "                \"score\": 0.8704679608345032,\n",
            "                \"x\": 0.29333333333333333,\n",
            "                \"y\": 0.38823529411764707\n",
            "            },\n",
            "            \"17\": {\n",
            "                \"score\": 0.7175991535186768,\n",
            "                \"x\": 0.72,\n",
            "                \"y\": 0.38823529411764707\n",
            "            }\n",
            "        }\n",
            "    ]\n",
            "}\n"
          ],
          "name": "stdout"
        }
      ]
    },
    {
      "cell_type": "code",
      "metadata": {
        "id": "vxm5Mwnebc5y",
        "colab_type": "code",
        "colab": {}
      },
      "source": [
        ""
      ],
      "execution_count": 0,
      "outputs": []
    }
  ]
}